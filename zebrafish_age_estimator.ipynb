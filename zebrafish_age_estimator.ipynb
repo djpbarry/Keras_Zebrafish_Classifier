{
 "cells": [
  {
   "cell_type": "markdown",
   "id": "dd6659961867ed87",
   "metadata": {
    "collapsed": false
   },
   "source": [
    "# KimmelNet\n",
    "\n",
    "Welcome to KimmelNet! If you have set up your python environment correctly, by following [the instructions on GitHub](https://github.com/djpbarry/KimmelNET/tree/main#run-kimmelnet-on-your-own-data), then clicking the _Run All_ button above should result in all the code below being successfully executed - you should see plenty of graphical output (and no errors!). But let's go through each cell one by one.\n",
    "\n",
    "This first cell just gets everything set up - unless you are familiar with the inner workings of TensorFlow, you probably don't want to change anything here!\n",
    "\n",
    "Note that the expected size of the input images is 268 x 224 pixels (width x height). Don't worry if your images are a different size - they will be scaled automatically. However, if the aspect ratio of your images is substantially different to this, then KimmelNet may not perform terribly well."
   ]
  },
  {
   "cell_type": "code",
   "execution_count": null,
   "id": "c309c3048fc1e740",
   "metadata": {
    "collapsed": false
   },
   "outputs": [],
   "source": [
    "import os\n",
    "\n",
    "import matplotlib.pyplot as plt\n",
    "import numpy as np\n",
    "import tensorflow as tf\n",
    "from scipy.optimize import curve_fit\n",
    "from sklearn.metrics import r2_score\n",
    "from tensorflow import keras\n",
    "\n",
    "\n",
    "def func(x, a):\n",
    "    return a * x\n",
    "\n",
    "\n",
    "# Variables pertaining to trained model\n",
    "\n",
    "image_size = (224, 268)\n",
    "cropped_image_size = (224, 224)\n",
    "batch_size = 32\n",
    "buffer_size = 4"
   ]
  },
  {
   "cell_type": "markdown",
   "id": "ac60f03d7e86c5a7",
   "metadata": {
    "collapsed": false
   },
   "source": [
    "These next variables are two that you _may_ wish to change. By default, they point to the location of the sample test data and pretrained KimmelNet model. However, if your test data is  located elsewhere, or you want to use a version of KimmelNet you have updated yourself (by way of transfer learning or otherwise), you will need to specify the relevant paths here:"
   ]
  },
  {
   "cell_type": "code",
   "execution_count": null,
   "id": "92f2ca52169aef64",
   "metadata": {
    "collapsed": false
   },
   "outputs": [],
   "source": [
    "test_path = './test_data'\n",
    "model_path = './KimmelNet_Model/published_model_multi_gpu_custom_augmentation_trained_model'"
   ]
  },
  {
   "cell_type": "markdown",
   "id": "6ea1e17c6efe6869",
   "metadata": {
    "collapsed": false
   },
   "source": [
    "That's it! You don't need to do anything else.\n",
    "\n",
    "If you run this next cell, all your test data will be parsed and loaded into a dataset - you should see the total number of images in the dataset displayed."
   ]
  },
  {
   "cell_type": "code",
   "execution_count": null,
   "id": "592a45ea9301cada",
   "metadata": {
    "collapsed": false
   },
   "outputs": [],
   "source": [
    "# parse_image function returns an image and the image's label (which is given by the name of the folder in which\n",
    "# the image is saved) given a filename\n",
    "def parse_image(filename):\n",
    "    parts = tf.strings.split(filename, os.sep)\n",
    "    label = float(parts[-2])\n",
    "    image = tf.io.read_file(filename)\n",
    "    image = tf.image.decode_png(image)\n",
    "    image = tf.image.resize(image, image_size)\n",
    "    return image, label\n",
    "\n",
    "\n",
    "# Construct a tensorflow Dataset based on the file list in the test_path parent directory\n",
    "test_list_ds = tf.data.Dataset.list_files(str(test_path + os.sep + \"*\" + os.sep + \"*.png\")).shuffle(1000)\n",
    "test_ds = test_list_ds.map(parse_image).batch(batch_size)\n",
    "test_ds = test_ds.prefetch(tf.data.AUTOTUNE).cache()\n",
    "\n",
    "print(\"Number of images in test dataset: \", test_list_ds.cardinality().numpy())"
   ]
  },
  {
   "cell_type": "markdown",
   "id": "82b6c3a90cb46a70",
   "metadata": {
    "collapsed": false
   },
   "source": [
    "In this next cell, the KimmelNet model is loaded and a summary of the model is displayed:"
   ]
  },
  {
   "cell_type": "code",
   "execution_count": null,
   "id": "2e641f3f",
   "metadata": {},
   "outputs": [],
   "source": [
    "# Load and display a summary of the trained model\n",
    "\n",
    "model = keras.models.load_model(model_path)\n",
    "\n",
    "model.summary()"
   ]
  },
  {
   "cell_type": "markdown",
   "id": "44882266cb68ddea",
   "metadata": {
    "collapsed": false
   },
   "source": [
    "Next, we display a sample selection of the test dataset, to ensure everything is behaving as it should be:"
   ]
  },
  {
   "cell_type": "code",
   "execution_count": null,
   "id": "715da937",
   "metadata": {},
   "outputs": [],
   "source": [
    "# Display a sample of the test data\n",
    "\n",
    "%matplotlib inline\n",
    "\n",
    "plt.figure(num=3, figsize=(20, 17))\n",
    "for images, labels in test_ds.take(1):\n",
    "    for i in range(25):\n",
    "        ax = plt.subplot(5, 5, i + 1)\n",
    "        plt.imshow(images[i].numpy().astype(\"uint8\"), cmap='gray')\n",
    "        plt.title(labels[i].numpy())\n",
    "        plt.axis(\"off\")\n",
    "plt.show()"
   ]
  },
  {
   "cell_type": "markdown",
   "id": "e3c11b39714c4df9",
   "metadata": {
    "collapsed": false
   },
   "source": [
    "Now we get on to running KimmelNet on the test data. Here, you should see a \"Test Loss\" displayed for the entire test dataset. This value tells you how (in)accurate KimmelNet has been at predicting the true hours post-fertilisation for all the images in your test data. Note that this value has units of hours<sup>2</sup>, so take the square root to get the mean error in hours. Consult the manuscript describing KimmelNet to get an idea of what kind of error values you can expect."
   ]
  },
  {
   "cell_type": "code",
   "execution_count": null,
   "id": "183dc258",
   "metadata": {},
   "outputs": [],
   "source": [
    "# Evaluate the model on all the test data\n",
    "\n",
    "score = model.evaluate(test_ds, verbose=1)\n",
    "print(\"Test loss:\", score)"
   ]
  },
  {
   "cell_type": "markdown",
   "id": "4ca05fd8cbbb1d9e",
   "metadata": {
    "collapsed": false
   },
   "source": [
    "Now we plot the predictions for each individual image against the true hpf for that image and fit a line to the resulting point cloud."
   ]
  },
  {
   "cell_type": "code",
   "execution_count": null,
   "id": "493b4630",
   "metadata": {},
   "outputs": [],
   "source": [
    "# Plot the prediction accuracy on an image-by-image basis - each datapoint represents a single image in the test data\n",
    "\n",
    "labels = np.array([])\n",
    "predictions = np.array([])\n",
    "for x, y in test_ds:\n",
    "    p = model.predict(x, verbose=1)\n",
    "    for i in range(len(p)):\n",
    "        predictions = np.concatenate([predictions, p[i]])\n",
    "    labels = np.concatenate([labels, y.numpy()])\n",
    "\n",
    "linear_model = np.polyfit(labels, predictions, 1)\n",
    "linear_model_fn = np.poly1d(linear_model)\n",
    "popt, pcov = curve_fit(func, labels, predictions)\n",
    "r2 = r2_score(predictions, func(labels, popt))\n",
    "\n",
    "x_s = np.arange(4, 53)\n",
    "\n",
    "plt.figure(num=2, figsize=(10, 10))\n",
    "plt.plot(labels, predictions, 'o', markersize=3, label='Predictions')\n",
    "plt.plot(x_s, linear_model_fn(x_s), color=\"red\", label=\"Best Fit ($R^2 = {{{:.3f}}}$)\".format(r2))\n",
    "plt.xlabel(\"Actual HPF\")\n",
    "plt.ylabel(\"Predicted HPF\")\n",
    "plt.legend(fontsize=16, markerscale=2.0)\n",
    "plt.show()"
   ]
  },
  {
   "cell_type": "markdown",
   "id": "e3e4debca517c0e4",
   "metadata": {
    "collapsed": false
   },
   "source": [
    "Finally, we produce a plot of the distribution of prediction errors:"
   ]
  },
  {
   "cell_type": "code",
   "execution_count": null,
   "id": "01dbd8d5",
   "metadata": {},
   "outputs": [],
   "source": [
    "# Plot the distribution of errors (the differences between predictions and true la)\n",
    "\n",
    "errs = labels - predictions\n",
    "\n",
    "plt.figure(num=4, figsize=(10, 10))\n",
    "plt.hist(errs, bins=100)\n",
    "plt.xlabel(\"Prediction Error\")\n",
    "plt.ylabel(\"Frequency\")\n",
    "plt.show()"
   ]
  }
 ],
 "metadata": {
  "kernelspec": {
   "display_name": "Python 3 (ipykernel)",
   "language": "python",
   "name": "python3"
  },
  "language_info": {
   "codemirror_mode": {
    "name": "ipython",
    "version": 3
   },
   "file_extension": ".py",
   "mimetype": "text/x-python",
   "name": "python",
   "nbconvert_exporter": "python",
   "pygments_lexer": "ipython3",
   "version": "3.11.4"
  }
 },
 "nbformat": 4,
 "nbformat_minor": 5
}
