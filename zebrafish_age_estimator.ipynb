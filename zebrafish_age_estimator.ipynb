{
 "cells": [
  {
   "cell_type": "code",
   "execution_count": null,
   "id": "bcef18a7",
   "metadata": {},
   "outputs": [],
   "source": [
    "import os\n",
    "\n",
    "import matplotlib.pyplot as plt\n",
    "import numpy as np\n",
    "import tensorflow as tf\n",
    "from tensorflow import keras\n",
    "\n",
    "# Variables pertaining to trained model\n",
    "\n",
    "image_size = (224, 268)\n",
    "cropped_image_size = (224, 224)\n",
    "batch_size = 32\n",
    "buffer_size = 4\n",
    "test_path = './test_data'\n",
    "\n",
    "# parse_image function returns an image and the image's label (which is given by the name of the folder in which\n",
    "# the image is saved) given a filename\n",
    "def parse_image(filename):\n",
    "    parts = tf.strings.split(filename, os.sep)\n",
    "    label = float(parts[-2])\n",
    "    image = tf.io.read_file(filename)\n",
    "    image = tf.image.decode_png(image)\n",
    "    image = tf.image.resize(image, image_size)\n",
    "    return image, label\n",
    "\n",
    "# Construct a tensorflow Dataset based on the file list in the test_path parent directory\n",
    "test_list_ds = tf.data.Dataset.list_files(str(test_path + os.sep + \"*\" + os.sep + \"*.png\")).shuffle(1000)\n",
    "test_ds = test_list_ds.map(parse_image).batch(batch_size)\n",
    "test_ds = test_ds.prefetch(buffer_size=buffer_size).cache()\n",
    "\n",
    "print(\"Number of images in test dataset: \", test_list_ds.cardinality().numpy())"
   ]
  },
  {
   "cell_type": "code",
   "execution_count": null,
   "id": "2e641f3f",
   "metadata": {},
   "outputs": [],
   "source": [
    "# Load and display a summary of the trained model\n",
    "\n",
    "model = keras.models.load_model('./simple_regression_trained_model')\n",
    "\n",
    "model.summary()"
   ]
  },
  {
   "cell_type": "code",
   "execution_count": null,
   "id": "715da937",
   "metadata": {},
   "outputs": [],
   "source": [
    "# Display a sample of the test data\n",
    "\n",
    "%matplotlib inline\n",
    "\n",
    "plt.figure(num=3, figsize=(20, 17))\n",
    "for images, labels in test_ds.take(1):\n",
    "    for i in range(25):\n",
    "        ax = plt.subplot(5, 5, i + 1)\n",
    "        plt.imshow(images[i].numpy().astype(\"uint8\"), cmap='gray')\n",
    "        plt.title(labels[i].numpy())\n",
    "        plt.axis(\"off\")\n",
    "plt.show()"
   ]
  },
  {
   "cell_type": "code",
   "execution_count": null,
   "id": "183dc258",
   "metadata": {},
   "outputs": [],
   "source": [
    "# Evaluate the model on all the test data\n",
    "\n",
    "score = model.evaluate(test_ds, verbose=1)\n",
    "print(\"Test loss:\", score)"
   ]
  },
  {
   "cell_type": "code",
   "execution_count": null,
   "id": "493b4630",
   "metadata": {},
   "outputs": [],
   "source": [
    "# Plot the prediction accuracy on an image-by-image basis - each datapoint represents a single image in the test data\n",
    "\n",
    "labels = np.array([])\n",
    "predictions = np.array([])\n",
    "for x, y in test_ds:\n",
    "    p = model.predict(x, verbose=1)\n",
    "    for i in range(len(p)):\n",
    "        predictions = np.concatenate([predictions, p[i]])\n",
    "    labels = np.concatenate([labels, y.numpy()])\n",
    "\n",
    "linear_model = np.polyfit(labels, predictions, 1)\n",
    "linear_model_fn = np.poly1d(linear_model)\n",
    "x_s = np.arange(4, 53)\n",
    "\n",
    "plt.figure(num=2, figsize=(10, 10))\n",
    "plt.title(\"Prediction Accuracy\")\n",
    "plt.plot(labels, predictions, 'o', markersize=3)\n",
    "plt.plot(x_s, linear_model_fn(x_s), color=\"red\")\n",
    "plt.xlabel(\"True label\")\n",
    "plt.ylabel(\"Predicted label\")\n",
    "plt.show()"
   ]
  },
  {
   "cell_type": "code",
   "execution_count": null,
   "id": "01dbd8d5",
   "metadata": {},
   "outputs": [],
   "source": [
    "# Plot the distribution of errors (the differences between predictions and true la)\n",
    "\n",
    "errs = labels - predictions\n",
    "\n",
    "plt.figure(num=4, figsize=(10, 10))\n",
    "plt.title(\"Prediction Errors\")\n",
    "plt.hist(errs, bins=100)\n",
    "plt.xlabel(\"Prediction Error\")\n",
    "plt.ylabel(\"Frequency\")\n",
    "plt.show()"
   ]
  }
 ],
 "metadata": {
  "kernelspec": {
   "display_name": "Python 3 (ipykernel)",
   "language": "python",
   "name": "python3"
  },
  "language_info": {
   "codemirror_mode": {
    "name": "ipython",
    "version": 3
   },
   "file_extension": ".py",
   "mimetype": "text/x-python",
   "name": "python",
   "nbconvert_exporter": "python",
   "pygments_lexer": "ipython3",
   "version": "3.9.5"
  }
 },
 "nbformat": 4,
 "nbformat_minor": 5
}
